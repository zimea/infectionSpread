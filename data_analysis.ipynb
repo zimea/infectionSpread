{
 "cells": [
  {
   "cell_type": "code",
   "execution_count": 1,
   "id": "7ce1cf75-2156-4819-9adf-eded7ee82cca",
   "metadata": {},
   "outputs": [
    {
     "name": "stderr",
     "output_type": "stream",
     "text": [
      "\n",
      "Attache Paket: ‘dplyr’\n",
      "\n",
      "\n",
      "Die folgenden Objekte sind maskiert von ‘package:plyr’:\n",
      "\n",
      "    arrange, count, desc, failwith, id, mutate, rename, summarise,\n",
      "    summarize\n",
      "\n",
      "\n",
      "Die folgenden Objekte sind maskiert von ‘package:stats’:\n",
      "\n",
      "    filter, lag\n",
      "\n",
      "\n",
      "Die folgenden Objekte sind maskiert von ‘package:base’:\n",
      "\n",
      "    intersect, setdiff, setequal, union\n",
      "\n",
      "\n"
     ]
    },
    {
     "ename": "ERROR",
     "evalue": "Error in library(\"tidyverse\"): es gibt kein Paket namens ‘tidyverse’\n",
     "output_type": "error",
     "traceback": [
      "Error in library(\"tidyverse\"): es gibt kein Paket namens ‘tidyverse’\nTraceback:\n",
      "1. library(\"tidyverse\")"
     ]
    }
   ],
   "source": [
    "library('ggplot2')\n",
    "library(plyr)\n",
    "library('dplyr')\n",
    "library('tidyverse')\n",
    "library('ggsci')\n",
    "library('viridis')"
   ]
  },
  {
   "cell_type": "code",
   "execution_count": 2,
   "id": "f4be62f8-e5ec-42db-80cb-d8fecabf0ef6",
   "metadata": {},
   "outputs": [],
   "source": [
    "list_paths <- function(filename){\n",
    "  paths <- list.files(pattern=filename, recursive=TRUE)\n",
    "  return(paths)\n",
    "}\n",
    "\n",
    "get_param_value <- function(param){\n",
    "    return(as.double(str_split(param,\"-\")[[1]][2]))\n",
    "    }\n",
    "\n",
    "extract_parameters <- function(path){\n",
    "    config <- str_split(path, \"/\")\n",
    "    param <- lapply(str_split(config[[1]][length(str_split(path,\"/\")[[1]])-1], \"_\")[[1]],get_param_value)\n",
    "    df <- read.csv(path, sep='\\t')%>%\n",
    "        add_column(b_cf=param[[2]][1],bc2c=param[[3]][1],cV=param[[4]][1],pi=param[[5]][1])}"
   ]
  },
  {
   "cell_type": "code",
   "execution_count": 3,
   "id": "6d80c1b1-609d-45fd-a89f-e9505cbdd82a",
   "metadata": {},
   "outputs": [],
   "source": [
    "paths <- list_paths(\"^logger_3.csv\")"
   ]
  },
  {
   "cell_type": "code",
   "execution_count": 4,
   "id": "88afb52a-f76a-409f-b28b-61f5a2bdd0cd",
   "metadata": {
    "tags": []
   },
   "outputs": [
    {
     "ename": "ERROR",
     "evalue": "Error in str_split(path, \"/\"): konnte Funktion \"str_split\" nicht finden\n",
     "output_type": "error",
     "traceback": [
      "Error in str_split(path, \"/\"): konnte Funktion \"str_split\" nicht finden\nTraceback:\n",
      "1. lapply(paths, extract_parameters)",
      "2. FUN(X[[i]], ...)"
     ]
    }
   ],
   "source": [
    "populations <- lapply(paths, extract_parameters)\n",
    "populations <- do.call(\"rbind\", populations)"
   ]
  },
  {
   "cell_type": "code",
   "execution_count": 6,
   "id": "0ac211b5-dcf2-4b6f-8911-91b55b2204cc",
   "metadata": {},
   "outputs": [
    {
     "name": "stderr",
     "output_type": "stream",
     "text": [
      "\u001b[1m\u001b[22m`summarise()` has grouped output by 'time', 'b_cf', 'bc2c', 'cV'. You can override using the `.groups` argument.\n",
      "\u001b[1m\u001b[22m`summarise()` has grouped output by 'time', 'b_cf', 'bc2c', 'cV'. You can override using the `.groups` argument.\n"
     ]
    }
   ],
   "source": [
    "inf_percent <- populations%>%mutate(percent_inf=100*celltype.infected.size/(celltype.target.size+celltype.infected.size))%>%\n",
    "    group_by(time,b_cf,bc2c,cV,pi)%>%\n",
    "    summarise(mean=mean(percent_inf),sd=sd(percent_inf))\n",
    "\n",
    "inf_total <- populations%>%group_by(time,b_cf,bc2c,cV,pi)%>%\n",
    "    summarise(infected_mean=mean(celltype.infected.size),\n",
    "      infected_sd=sd(celltype.infected.size),\n",
    "      target_mean=mean(celltype.target.size),\n",
    "      target_sd=sd(celltype.target.size)\n",
    "      )%>%gather(cell, value, -c(time,b_cf,bc2c,cV,pi))%>%\n",
    "      separate(cell,c('cell', 'type'))%>%\n",
    "      spread(type,value)"
   ]
  },
  {
   "cell_type": "code",
   "execution_count": 7,
   "id": "3b0e1919-e96e-4a11-9c7b-9b432899267b",
   "metadata": {},
   "outputs": [
    {
     "data": {
      "text/html": [
       "<table class=\"dataframe\">\n",
       "<caption>A grouped_df: 6 × 7</caption>\n",
       "<thead>\n",
       "\t<tr><th scope=col>time</th><th scope=col>b_cf</th><th scope=col>bc2c</th><th scope=col>cV</th><th scope=col>pi</th><th scope=col>mean</th><th scope=col>sd</th></tr>\n",
       "\t<tr><th scope=col>&lt;int&gt;</th><th scope=col>&lt;dbl&gt;</th><th scope=col>&lt;dbl&gt;</th><th scope=col>&lt;dbl&gt;</th><th scope=col>&lt;dbl&gt;</th><th scope=col>&lt;dbl&gt;</th><th scope=col>&lt;dbl&gt;</th></tr>\n",
       "</thead>\n",
       "<tbody>\n",
       "\t<tr><td>0</td><td>0.01</td><td>0.01</td><td>0.01</td><td>0.01</td><td>10</td><td>0</td></tr>\n",
       "\t<tr><td>0</td><td>0.01</td><td>0.01</td><td>0.01</td><td>0.10</td><td>10</td><td>0</td></tr>\n",
       "\t<tr><td>0</td><td>0.01</td><td>0.01</td><td>0.01</td><td>1.00</td><td>10</td><td>0</td></tr>\n",
       "\t<tr><td>0</td><td>0.01</td><td>0.01</td><td>0.10</td><td>0.01</td><td>10</td><td>0</td></tr>\n",
       "\t<tr><td>0</td><td>0.01</td><td>0.01</td><td>0.10</td><td>0.10</td><td>10</td><td>0</td></tr>\n",
       "\t<tr><td>0</td><td>0.01</td><td>0.01</td><td>0.10</td><td>1.00</td><td>10</td><td>0</td></tr>\n",
       "</tbody>\n",
       "</table>\n"
      ],
      "text/latex": [
       "A grouped\\_df: 6 × 7\n",
       "\\begin{tabular}{lllllll}\n",
       " time & b\\_cf & bc2c & cV & pi & mean & sd\\\\\n",
       " <int> & <dbl> & <dbl> & <dbl> & <dbl> & <dbl> & <dbl>\\\\\n",
       "\\hline\n",
       "\t 0 & 0.01 & 0.01 & 0.01 & 0.01 & 10 & 0\\\\\n",
       "\t 0 & 0.01 & 0.01 & 0.01 & 0.10 & 10 & 0\\\\\n",
       "\t 0 & 0.01 & 0.01 & 0.01 & 1.00 & 10 & 0\\\\\n",
       "\t 0 & 0.01 & 0.01 & 0.10 & 0.01 & 10 & 0\\\\\n",
       "\t 0 & 0.01 & 0.01 & 0.10 & 0.10 & 10 & 0\\\\\n",
       "\t 0 & 0.01 & 0.01 & 0.10 & 1.00 & 10 & 0\\\\\n",
       "\\end{tabular}\n"
      ],
      "text/markdown": [
       "\n",
       "A grouped_df: 6 × 7\n",
       "\n",
       "| time &lt;int&gt; | b_cf &lt;dbl&gt; | bc2c &lt;dbl&gt; | cV &lt;dbl&gt; | pi &lt;dbl&gt; | mean &lt;dbl&gt; | sd &lt;dbl&gt; |\n",
       "|---|---|---|---|---|---|---|\n",
       "| 0 | 0.01 | 0.01 | 0.01 | 0.01 | 10 | 0 |\n",
       "| 0 | 0.01 | 0.01 | 0.01 | 0.10 | 10 | 0 |\n",
       "| 0 | 0.01 | 0.01 | 0.01 | 1.00 | 10 | 0 |\n",
       "| 0 | 0.01 | 0.01 | 0.10 | 0.01 | 10 | 0 |\n",
       "| 0 | 0.01 | 0.01 | 0.10 | 0.10 | 10 | 0 |\n",
       "| 0 | 0.01 | 0.01 | 0.10 | 1.00 | 10 | 0 |\n",
       "\n"
      ],
      "text/plain": [
       "  time b_cf bc2c cV   pi   mean sd\n",
       "1 0    0.01 0.01 0.01 0.01 10   0 \n",
       "2 0    0.01 0.01 0.01 0.10 10   0 \n",
       "3 0    0.01 0.01 0.01 1.00 10   0 \n",
       "4 0    0.01 0.01 0.10 0.01 10   0 \n",
       "5 0    0.01 0.01 0.10 0.10 10   0 \n",
       "6 0    0.01 0.01 0.10 1.00 10   0 "
      ]
     },
     "metadata": {},
     "output_type": "display_data"
    }
   ],
   "source": [
    "head(inf_percent)"
   ]
  },
  {
   "cell_type": "code",
   "execution_count": 14,
   "id": "2ac81baf-0074-430c-8618-bf094b856ac4",
   "metadata": {},
   "outputs": [
    {
     "name": "stderr",
     "output_type": "stream",
     "text": [
      "\u001b[1m\u001b[22m`summarise()` has grouped output by 'time', 'b_cf', 'bc2c', 'cV'. You can override using the `.groups` argument.\n"
     ]
    }
   ],
   "source": [
    "inf_percent <- populations%>%mutate(percent_inf=100*celltype.infected.size/(celltype.target.size+celltype.infected.size))%>%\n",
    "    group_by(time,b_cf,bc2c,cV,pi)%>%\n",
    "    summarise(mean=mean(percent_inf),sd=sd(percent_inf))%>%ungroup()"
   ]
  },
  {
   "cell_type": "code",
   "execution_count": 15,
   "id": "9662d0f1-1e90-40d4-bcaf-5c36780fba66",
   "metadata": {},
   "outputs": [
    {
     "data": {
      "text/html": [
       "<table class=\"dataframe\">\n",
       "<caption>A tibble: 6 × 7</caption>\n",
       "<thead>\n",
       "\t<tr><th scope=col>time</th><th scope=col>b_cf</th><th scope=col>bc2c</th><th scope=col>cV</th><th scope=col>pi</th><th scope=col>mean</th><th scope=col>sd</th></tr>\n",
       "\t<tr><th scope=col>&lt;int&gt;</th><th scope=col>&lt;dbl&gt;</th><th scope=col>&lt;dbl&gt;</th><th scope=col>&lt;dbl&gt;</th><th scope=col>&lt;dbl&gt;</th><th scope=col>&lt;dbl&gt;</th><th scope=col>&lt;dbl&gt;</th></tr>\n",
       "</thead>\n",
       "<tbody>\n",
       "\t<tr><td>0</td><td>0.01</td><td>0.01</td><td>0.01</td><td>0.01</td><td>10</td><td>0</td></tr>\n",
       "\t<tr><td>0</td><td>0.01</td><td>0.01</td><td>0.01</td><td>0.10</td><td>10</td><td>0</td></tr>\n",
       "\t<tr><td>0</td><td>0.01</td><td>0.01</td><td>0.01</td><td>1.00</td><td>10</td><td>0</td></tr>\n",
       "\t<tr><td>0</td><td>0.01</td><td>0.01</td><td>0.10</td><td>0.01</td><td>10</td><td>0</td></tr>\n",
       "\t<tr><td>0</td><td>0.01</td><td>0.01</td><td>0.10</td><td>0.10</td><td>10</td><td>0</td></tr>\n",
       "\t<tr><td>0</td><td>0.01</td><td>0.01</td><td>0.10</td><td>1.00</td><td>10</td><td>0</td></tr>\n",
       "</tbody>\n",
       "</table>\n"
      ],
      "text/latex": [
       "A tibble: 6 × 7\n",
       "\\begin{tabular}{lllllll}\n",
       " time & b\\_cf & bc2c & cV & pi & mean & sd\\\\\n",
       " <int> & <dbl> & <dbl> & <dbl> & <dbl> & <dbl> & <dbl>\\\\\n",
       "\\hline\n",
       "\t 0 & 0.01 & 0.01 & 0.01 & 0.01 & 10 & 0\\\\\n",
       "\t 0 & 0.01 & 0.01 & 0.01 & 0.10 & 10 & 0\\\\\n",
       "\t 0 & 0.01 & 0.01 & 0.01 & 1.00 & 10 & 0\\\\\n",
       "\t 0 & 0.01 & 0.01 & 0.10 & 0.01 & 10 & 0\\\\\n",
       "\t 0 & 0.01 & 0.01 & 0.10 & 0.10 & 10 & 0\\\\\n",
       "\t 0 & 0.01 & 0.01 & 0.10 & 1.00 & 10 & 0\\\\\n",
       "\\end{tabular}\n"
      ],
      "text/markdown": [
       "\n",
       "A tibble: 6 × 7\n",
       "\n",
       "| time &lt;int&gt; | b_cf &lt;dbl&gt; | bc2c &lt;dbl&gt; | cV &lt;dbl&gt; | pi &lt;dbl&gt; | mean &lt;dbl&gt; | sd &lt;dbl&gt; |\n",
       "|---|---|---|---|---|---|---|\n",
       "| 0 | 0.01 | 0.01 | 0.01 | 0.01 | 10 | 0 |\n",
       "| 0 | 0.01 | 0.01 | 0.01 | 0.10 | 10 | 0 |\n",
       "| 0 | 0.01 | 0.01 | 0.01 | 1.00 | 10 | 0 |\n",
       "| 0 | 0.01 | 0.01 | 0.10 | 0.01 | 10 | 0 |\n",
       "| 0 | 0.01 | 0.01 | 0.10 | 0.10 | 10 | 0 |\n",
       "| 0 | 0.01 | 0.01 | 0.10 | 1.00 | 10 | 0 |\n",
       "\n"
      ],
      "text/plain": [
       "  time b_cf bc2c cV   pi   mean sd\n",
       "1 0    0.01 0.01 0.01 0.01 10   0 \n",
       "2 0    0.01 0.01 0.01 0.10 10   0 \n",
       "3 0    0.01 0.01 0.01 1.00 10   0 \n",
       "4 0    0.01 0.01 0.10 0.01 10   0 \n",
       "5 0    0.01 0.01 0.10 0.10 10   0 \n",
       "6 0    0.01 0.01 0.10 1.00 10   0 "
      ]
     },
     "metadata": {},
     "output_type": "display_data"
    }
   ],
   "source": [
    "head(inf_percent)"
   ]
  },
  {
   "cell_type": "code",
   "execution_count": 22,
   "id": "593307e3-ad0e-4f0e-8ddb-40cabd690ccd",
   "metadata": {},
   "outputs": [
    {
     "data": {
      "text/html": [
       "<strong>png:</strong> 2"
      ],
      "text/latex": [
       "\\textbf{png:} 2"
      ],
      "text/markdown": [
       "**png:** 2"
      ],
      "text/plain": [
       "png \n",
       "  2 "
      ]
     },
     "metadata": {},
     "output_type": "display_data"
    }
   ],
   "source": [
    "ggplot(data=inf_percent, aes(x=time,y=mean, color=interaction(b_cf,bc2c,cV,pi,sep=\"-\"), fill=interaction(b_cf,bc2c,cV,pi,sep=\"-\"))) +\n",
    "        geom_line(size=1) +\n",
    "        geom_errorbar(mapping=aes(x=time, ymin=mean-sd, ymax=mean+sd, color=interaction(b_cf,bc2c,cV,pi,sep=\"-\")), alpha=.3) + \n",
    "        labs(x=\"Time after infection [dpi]\", y=\"Percentage of infected cells\", fill=\"Scenario\",color='Scenario') +\n",
    "        facet_grid(b_cf~bc2c)"
   ]
  },
  {
   "cell_type": "code",
   "execution_count": 91,
   "id": "81990931-7f61-42c0-a425-9b2750e3bb82",
   "metadata": {},
   "outputs": [
    {
     "ename": "ERROR",
     "evalue": "Error in parse(text = x, srcfile = src): <text>:11:1: unerwartetes Symbol\n10:         facet_grid(b_cf~bc2c, scales='free_y')\n11: dev.off\n    ^\n",
     "output_type": "error",
     "traceback": [
      "Error in parse(text = x, srcfile = src): <text>:11:1: unerwartetes Symbol\n10:         facet_grid(b_cf~bc2c, scales='free_y')\n11: dev.off\n    ^\nTraceback:\n"
     ]
    }
   ],
   "source": [
    "pdf(paste0(getwd(),\"percent_infected.pdf\"),width=8,height=3)\n",
    "    ggplot(data=inf_percent, aes(x=time,y=mean, color=c(b_cf,bc2c,cV,pi), fill=c(b_cf,bc2c,cV,pi)) +\n",
    "        geom_line(size=1) +\n",
    "        geom_errorbar(mapping=aes(x=time, ymin=mean-sd, ymax=mean+sd, color=c(b_cf,bc2c,cV,pi)), alpha=.3) + \n",
    "        ggtitle(\"Infection dynamics\") +\n",
    "        labs(x=\"Time after infection [dpi]\", y=\"Percentage of infected cells\", fill=\"Scenario\",color='Scenario') +\n",
    "        theme_light() +\n",
    "        scale_color_npg() +\n",
    "        scale_fill_npg() +\n",
    "        facet_grid(b_cf~bc2c, scales='free_y')\n",
    "dev.off()\n",
    "           \n",
    "pdf(paste0(getwd(),\"total_infected.pdf\"),width=8,height=6)\n",
    "ggplot(data=inf_total,aes(x=time,y=mean, color=c(b_cf,bc2c,cV,pi), fill=c(b_cf,bc2c,cV,pi)) +\n",
    "  geom_line(size=1) +\n",
    "  geom_errorbar(mapping=aes(x=time, ymin=mean-sd, ymax=mean+sd, color=c(b_cf,bc2c,cV,pi)), alpha=.3) +\n",
    "  ggtitle(\"Infection dynamics\") +\n",
    "  labs(x=\"Time after infection [dpi]\", y=\"Total cell numbers\", fill=\"Scenario\",color='Scenario') + theme_light() +\n",
    "  scale_color_npg() +\n",
    "  scale_fill_npg() +\n",
    "  facet_grid(b_cf~bc2c,scales='free_y')\n",
    "dev.off()"
   ]
  },
  {
   "cell_type": "code",
   "execution_count": 84,
   "id": "cf6e6645-0853-48de-b89b-556af815f34e",
   "metadata": {},
   "outputs": [
    {
     "data": {
      "text/html": [
       "<table class=\"dataframe\">\n",
       "<caption>A data.frame: 24543 × 7</caption>\n",
       "<thead>\n",
       "\t<tr><th scope=col>time</th><th scope=col>celltype.target.size</th><th scope=col>celltype.infected.size</th><th scope=col>b_cf</th><th scope=col>bc2c</th><th scope=col>cV</th><th scope=col>pi</th></tr>\n",
       "\t<tr><th scope=col>&lt;int&gt;</th><th scope=col>&lt;int&gt;</th><th scope=col>&lt;int&gt;</th><th scope=col>&lt;chr&gt;</th><th scope=col>&lt;chr&gt;</th><th scope=col>&lt;chr&gt;</th><th scope=col>&lt;chr&gt;</th></tr>\n",
       "</thead>\n",
       "<tbody>\n",
       "\t<tr><td> 0</td><td>9</td><td>1</td><td>0.01</td><td>0.01</td><td>0.01</td><td>0.01</td></tr>\n",
       "\t<tr><td> 1</td><td>9</td><td>1</td><td>0.01</td><td>0.01</td><td>0.01</td><td>0.01</td></tr>\n",
       "\t<tr><td> 2</td><td>9</td><td>1</td><td>0.01</td><td>0.01</td><td>0.01</td><td>0.01</td></tr>\n",
       "\t<tr><td> 3</td><td>9</td><td>1</td><td>0.01</td><td>0.01</td><td>0.01</td><td>0.01</td></tr>\n",
       "\t<tr><td> 4</td><td>9</td><td>1</td><td>0.01</td><td>0.01</td><td>0.01</td><td>0.01</td></tr>\n",
       "\t<tr><td> 5</td><td>9</td><td>1</td><td>0.01</td><td>0.01</td><td>0.01</td><td>0.01</td></tr>\n",
       "\t<tr><td> 6</td><td>9</td><td>1</td><td>0.01</td><td>0.01</td><td>0.01</td><td>0.01</td></tr>\n",
       "\t<tr><td> 7</td><td>9</td><td>1</td><td>0.01</td><td>0.01</td><td>0.01</td><td>0.01</td></tr>\n",
       "\t<tr><td> 8</td><td>9</td><td>1</td><td>0.01</td><td>0.01</td><td>0.01</td><td>0.01</td></tr>\n",
       "\t<tr><td> 9</td><td>9</td><td>1</td><td>0.01</td><td>0.01</td><td>0.01</td><td>0.01</td></tr>\n",
       "\t<tr><td>10</td><td>9</td><td>1</td><td>0.01</td><td>0.01</td><td>0.01</td><td>0.01</td></tr>\n",
       "\t<tr><td>11</td><td>9</td><td>1</td><td>0.01</td><td>0.01</td><td>0.01</td><td>0.01</td></tr>\n",
       "\t<tr><td>12</td><td>9</td><td>1</td><td>0.01</td><td>0.01</td><td>0.01</td><td>0.01</td></tr>\n",
       "\t<tr><td>13</td><td>9</td><td>1</td><td>0.01</td><td>0.01</td><td>0.01</td><td>0.01</td></tr>\n",
       "\t<tr><td>14</td><td>9</td><td>1</td><td>0.01</td><td>0.01</td><td>0.01</td><td>0.01</td></tr>\n",
       "\t<tr><td>15</td><td>9</td><td>1</td><td>0.01</td><td>0.01</td><td>0.01</td><td>0.01</td></tr>\n",
       "\t<tr><td>16</td><td>9</td><td>1</td><td>0.01</td><td>0.01</td><td>0.01</td><td>0.01</td></tr>\n",
       "\t<tr><td>17</td><td>9</td><td>1</td><td>0.01</td><td>0.01</td><td>0.01</td><td>0.01</td></tr>\n",
       "\t<tr><td>18</td><td>9</td><td>1</td><td>0.01</td><td>0.01</td><td>0.01</td><td>0.01</td></tr>\n",
       "\t<tr><td>19</td><td>9</td><td>1</td><td>0.01</td><td>0.01</td><td>0.01</td><td>0.01</td></tr>\n",
       "\t<tr><td>20</td><td>9</td><td>1</td><td>0.01</td><td>0.01</td><td>0.01</td><td>0.01</td></tr>\n",
       "\t<tr><td>21</td><td>9</td><td>1</td><td>0.01</td><td>0.01</td><td>0.01</td><td>0.01</td></tr>\n",
       "\t<tr><td>22</td><td>9</td><td>1</td><td>0.01</td><td>0.01</td><td>0.01</td><td>0.01</td></tr>\n",
       "\t<tr><td>23</td><td>9</td><td>1</td><td>0.01</td><td>0.01</td><td>0.01</td><td>0.01</td></tr>\n",
       "\t<tr><td>24</td><td>9</td><td>1</td><td>0.01</td><td>0.01</td><td>0.01</td><td>0.01</td></tr>\n",
       "\t<tr><td>25</td><td>9</td><td>1</td><td>0.01</td><td>0.01</td><td>0.01</td><td>0.01</td></tr>\n",
       "\t<tr><td>26</td><td>9</td><td>1</td><td>0.01</td><td>0.01</td><td>0.01</td><td>0.01</td></tr>\n",
       "\t<tr><td>27</td><td>9</td><td>1</td><td>0.01</td><td>0.01</td><td>0.01</td><td>0.01</td></tr>\n",
       "\t<tr><td>28</td><td>9</td><td>1</td><td>0.01</td><td>0.01</td><td>0.01</td><td>0.01</td></tr>\n",
       "\t<tr><td>29</td><td>9</td><td>1</td><td>0.01</td><td>0.01</td><td>0.01</td><td>0.01</td></tr>\n",
       "\t<tr><td>⋮</td><td>⋮</td><td>⋮</td><td>⋮</td><td>⋮</td><td>⋮</td><td>⋮</td></tr>\n",
       "\t<tr><td> 71</td><td>0</td><td>10</td><td>1</td><td>1</td><td>1</td><td>1</td></tr>\n",
       "\t<tr><td> 72</td><td>0</td><td>10</td><td>1</td><td>1</td><td>1</td><td>1</td></tr>\n",
       "\t<tr><td> 73</td><td>0</td><td>10</td><td>1</td><td>1</td><td>1</td><td>1</td></tr>\n",
       "\t<tr><td> 74</td><td>0</td><td>10</td><td>1</td><td>1</td><td>1</td><td>1</td></tr>\n",
       "\t<tr><td> 75</td><td>0</td><td>10</td><td>1</td><td>1</td><td>1</td><td>1</td></tr>\n",
       "\t<tr><td> 76</td><td>0</td><td>10</td><td>1</td><td>1</td><td>1</td><td>1</td></tr>\n",
       "\t<tr><td> 77</td><td>0</td><td>10</td><td>1</td><td>1</td><td>1</td><td>1</td></tr>\n",
       "\t<tr><td> 78</td><td>0</td><td>10</td><td>1</td><td>1</td><td>1</td><td>1</td></tr>\n",
       "\t<tr><td> 79</td><td>0</td><td>10</td><td>1</td><td>1</td><td>1</td><td>1</td></tr>\n",
       "\t<tr><td> 80</td><td>0</td><td>10</td><td>1</td><td>1</td><td>1</td><td>1</td></tr>\n",
       "\t<tr><td> 81</td><td>0</td><td>10</td><td>1</td><td>1</td><td>1</td><td>1</td></tr>\n",
       "\t<tr><td> 82</td><td>0</td><td>10</td><td>1</td><td>1</td><td>1</td><td>1</td></tr>\n",
       "\t<tr><td> 83</td><td>0</td><td>10</td><td>1</td><td>1</td><td>1</td><td>1</td></tr>\n",
       "\t<tr><td> 84</td><td>0</td><td>10</td><td>1</td><td>1</td><td>1</td><td>1</td></tr>\n",
       "\t<tr><td> 85</td><td>0</td><td>10</td><td>1</td><td>1</td><td>1</td><td>1</td></tr>\n",
       "\t<tr><td> 86</td><td>0</td><td>10</td><td>1</td><td>1</td><td>1</td><td>1</td></tr>\n",
       "\t<tr><td> 87</td><td>0</td><td>10</td><td>1</td><td>1</td><td>1</td><td>1</td></tr>\n",
       "\t<tr><td> 88</td><td>0</td><td>10</td><td>1</td><td>1</td><td>1</td><td>1</td></tr>\n",
       "\t<tr><td> 89</td><td>0</td><td>10</td><td>1</td><td>1</td><td>1</td><td>1</td></tr>\n",
       "\t<tr><td> 90</td><td>0</td><td>10</td><td>1</td><td>1</td><td>1</td><td>1</td></tr>\n",
       "\t<tr><td> 91</td><td>0</td><td>10</td><td>1</td><td>1</td><td>1</td><td>1</td></tr>\n",
       "\t<tr><td> 92</td><td>0</td><td>10</td><td>1</td><td>1</td><td>1</td><td>1</td></tr>\n",
       "\t<tr><td> 93</td><td>0</td><td>10</td><td>1</td><td>1</td><td>1</td><td>1</td></tr>\n",
       "\t<tr><td> 94</td><td>0</td><td>10</td><td>1</td><td>1</td><td>1</td><td>1</td></tr>\n",
       "\t<tr><td> 95</td><td>0</td><td>10</td><td>1</td><td>1</td><td>1</td><td>1</td></tr>\n",
       "\t<tr><td> 96</td><td>0</td><td>10</td><td>1</td><td>1</td><td>1</td><td>1</td></tr>\n",
       "\t<tr><td> 97</td><td>0</td><td>10</td><td>1</td><td>1</td><td>1</td><td>1</td></tr>\n",
       "\t<tr><td> 98</td><td>0</td><td>10</td><td>1</td><td>1</td><td>1</td><td>1</td></tr>\n",
       "\t<tr><td> 99</td><td>0</td><td>10</td><td>1</td><td>1</td><td>1</td><td>1</td></tr>\n",
       "\t<tr><td>100</td><td>0</td><td>10</td><td>1</td><td>1</td><td>1</td><td>1</td></tr>\n",
       "</tbody>\n",
       "</table>\n"
      ],
      "text/latex": [
       "A data.frame: 24543 × 7\n",
       "\\begin{tabular}{lllllll}\n",
       " time & celltype.target.size & celltype.infected.size & b\\_cf & bc2c & cV & pi\\\\\n",
       " <int> & <int> & <int> & <chr> & <chr> & <chr> & <chr>\\\\\n",
       "\\hline\n",
       "\t  0 & 9 & 1 & 0.01 & 0.01 & 0.01 & 0.01\\\\\n",
       "\t  1 & 9 & 1 & 0.01 & 0.01 & 0.01 & 0.01\\\\\n",
       "\t  2 & 9 & 1 & 0.01 & 0.01 & 0.01 & 0.01\\\\\n",
       "\t  3 & 9 & 1 & 0.01 & 0.01 & 0.01 & 0.01\\\\\n",
       "\t  4 & 9 & 1 & 0.01 & 0.01 & 0.01 & 0.01\\\\\n",
       "\t  5 & 9 & 1 & 0.01 & 0.01 & 0.01 & 0.01\\\\\n",
       "\t  6 & 9 & 1 & 0.01 & 0.01 & 0.01 & 0.01\\\\\n",
       "\t  7 & 9 & 1 & 0.01 & 0.01 & 0.01 & 0.01\\\\\n",
       "\t  8 & 9 & 1 & 0.01 & 0.01 & 0.01 & 0.01\\\\\n",
       "\t  9 & 9 & 1 & 0.01 & 0.01 & 0.01 & 0.01\\\\\n",
       "\t 10 & 9 & 1 & 0.01 & 0.01 & 0.01 & 0.01\\\\\n",
       "\t 11 & 9 & 1 & 0.01 & 0.01 & 0.01 & 0.01\\\\\n",
       "\t 12 & 9 & 1 & 0.01 & 0.01 & 0.01 & 0.01\\\\\n",
       "\t 13 & 9 & 1 & 0.01 & 0.01 & 0.01 & 0.01\\\\\n",
       "\t 14 & 9 & 1 & 0.01 & 0.01 & 0.01 & 0.01\\\\\n",
       "\t 15 & 9 & 1 & 0.01 & 0.01 & 0.01 & 0.01\\\\\n",
       "\t 16 & 9 & 1 & 0.01 & 0.01 & 0.01 & 0.01\\\\\n",
       "\t 17 & 9 & 1 & 0.01 & 0.01 & 0.01 & 0.01\\\\\n",
       "\t 18 & 9 & 1 & 0.01 & 0.01 & 0.01 & 0.01\\\\\n",
       "\t 19 & 9 & 1 & 0.01 & 0.01 & 0.01 & 0.01\\\\\n",
       "\t 20 & 9 & 1 & 0.01 & 0.01 & 0.01 & 0.01\\\\\n",
       "\t 21 & 9 & 1 & 0.01 & 0.01 & 0.01 & 0.01\\\\\n",
       "\t 22 & 9 & 1 & 0.01 & 0.01 & 0.01 & 0.01\\\\\n",
       "\t 23 & 9 & 1 & 0.01 & 0.01 & 0.01 & 0.01\\\\\n",
       "\t 24 & 9 & 1 & 0.01 & 0.01 & 0.01 & 0.01\\\\\n",
       "\t 25 & 9 & 1 & 0.01 & 0.01 & 0.01 & 0.01\\\\\n",
       "\t 26 & 9 & 1 & 0.01 & 0.01 & 0.01 & 0.01\\\\\n",
       "\t 27 & 9 & 1 & 0.01 & 0.01 & 0.01 & 0.01\\\\\n",
       "\t 28 & 9 & 1 & 0.01 & 0.01 & 0.01 & 0.01\\\\\n",
       "\t 29 & 9 & 1 & 0.01 & 0.01 & 0.01 & 0.01\\\\\n",
       "\t ⋮ & ⋮ & ⋮ & ⋮ & ⋮ & ⋮ & ⋮\\\\\n",
       "\t  71 & 0 & 10 & 1 & 1 & 1 & 1\\\\\n",
       "\t  72 & 0 & 10 & 1 & 1 & 1 & 1\\\\\n",
       "\t  73 & 0 & 10 & 1 & 1 & 1 & 1\\\\\n",
       "\t  74 & 0 & 10 & 1 & 1 & 1 & 1\\\\\n",
       "\t  75 & 0 & 10 & 1 & 1 & 1 & 1\\\\\n",
       "\t  76 & 0 & 10 & 1 & 1 & 1 & 1\\\\\n",
       "\t  77 & 0 & 10 & 1 & 1 & 1 & 1\\\\\n",
       "\t  78 & 0 & 10 & 1 & 1 & 1 & 1\\\\\n",
       "\t  79 & 0 & 10 & 1 & 1 & 1 & 1\\\\\n",
       "\t  80 & 0 & 10 & 1 & 1 & 1 & 1\\\\\n",
       "\t  81 & 0 & 10 & 1 & 1 & 1 & 1\\\\\n",
       "\t  82 & 0 & 10 & 1 & 1 & 1 & 1\\\\\n",
       "\t  83 & 0 & 10 & 1 & 1 & 1 & 1\\\\\n",
       "\t  84 & 0 & 10 & 1 & 1 & 1 & 1\\\\\n",
       "\t  85 & 0 & 10 & 1 & 1 & 1 & 1\\\\\n",
       "\t  86 & 0 & 10 & 1 & 1 & 1 & 1\\\\\n",
       "\t  87 & 0 & 10 & 1 & 1 & 1 & 1\\\\\n",
       "\t  88 & 0 & 10 & 1 & 1 & 1 & 1\\\\\n",
       "\t  89 & 0 & 10 & 1 & 1 & 1 & 1\\\\\n",
       "\t  90 & 0 & 10 & 1 & 1 & 1 & 1\\\\\n",
       "\t  91 & 0 & 10 & 1 & 1 & 1 & 1\\\\\n",
       "\t  92 & 0 & 10 & 1 & 1 & 1 & 1\\\\\n",
       "\t  93 & 0 & 10 & 1 & 1 & 1 & 1\\\\\n",
       "\t  94 & 0 & 10 & 1 & 1 & 1 & 1\\\\\n",
       "\t  95 & 0 & 10 & 1 & 1 & 1 & 1\\\\\n",
       "\t  96 & 0 & 10 & 1 & 1 & 1 & 1\\\\\n",
       "\t  97 & 0 & 10 & 1 & 1 & 1 & 1\\\\\n",
       "\t  98 & 0 & 10 & 1 & 1 & 1 & 1\\\\\n",
       "\t  99 & 0 & 10 & 1 & 1 & 1 & 1\\\\\n",
       "\t 100 & 0 & 10 & 1 & 1 & 1 & 1\\\\\n",
       "\\end{tabular}\n"
      ],
      "text/markdown": [
       "\n",
       "A data.frame: 24543 × 7\n",
       "\n",
       "| time &lt;int&gt; | celltype.target.size &lt;int&gt; | celltype.infected.size &lt;int&gt; | b_cf &lt;chr&gt; | bc2c &lt;chr&gt; | cV &lt;chr&gt; | pi &lt;chr&gt; |\n",
       "|---|---|---|---|---|---|---|\n",
       "|  0 | 9 | 1 | 0.01 | 0.01 | 0.01 | 0.01 |\n",
       "|  1 | 9 | 1 | 0.01 | 0.01 | 0.01 | 0.01 |\n",
       "|  2 | 9 | 1 | 0.01 | 0.01 | 0.01 | 0.01 |\n",
       "|  3 | 9 | 1 | 0.01 | 0.01 | 0.01 | 0.01 |\n",
       "|  4 | 9 | 1 | 0.01 | 0.01 | 0.01 | 0.01 |\n",
       "|  5 | 9 | 1 | 0.01 | 0.01 | 0.01 | 0.01 |\n",
       "|  6 | 9 | 1 | 0.01 | 0.01 | 0.01 | 0.01 |\n",
       "|  7 | 9 | 1 | 0.01 | 0.01 | 0.01 | 0.01 |\n",
       "|  8 | 9 | 1 | 0.01 | 0.01 | 0.01 | 0.01 |\n",
       "|  9 | 9 | 1 | 0.01 | 0.01 | 0.01 | 0.01 |\n",
       "| 10 | 9 | 1 | 0.01 | 0.01 | 0.01 | 0.01 |\n",
       "| 11 | 9 | 1 | 0.01 | 0.01 | 0.01 | 0.01 |\n",
       "| 12 | 9 | 1 | 0.01 | 0.01 | 0.01 | 0.01 |\n",
       "| 13 | 9 | 1 | 0.01 | 0.01 | 0.01 | 0.01 |\n",
       "| 14 | 9 | 1 | 0.01 | 0.01 | 0.01 | 0.01 |\n",
       "| 15 | 9 | 1 | 0.01 | 0.01 | 0.01 | 0.01 |\n",
       "| 16 | 9 | 1 | 0.01 | 0.01 | 0.01 | 0.01 |\n",
       "| 17 | 9 | 1 | 0.01 | 0.01 | 0.01 | 0.01 |\n",
       "| 18 | 9 | 1 | 0.01 | 0.01 | 0.01 | 0.01 |\n",
       "| 19 | 9 | 1 | 0.01 | 0.01 | 0.01 | 0.01 |\n",
       "| 20 | 9 | 1 | 0.01 | 0.01 | 0.01 | 0.01 |\n",
       "| 21 | 9 | 1 | 0.01 | 0.01 | 0.01 | 0.01 |\n",
       "| 22 | 9 | 1 | 0.01 | 0.01 | 0.01 | 0.01 |\n",
       "| 23 | 9 | 1 | 0.01 | 0.01 | 0.01 | 0.01 |\n",
       "| 24 | 9 | 1 | 0.01 | 0.01 | 0.01 | 0.01 |\n",
       "| 25 | 9 | 1 | 0.01 | 0.01 | 0.01 | 0.01 |\n",
       "| 26 | 9 | 1 | 0.01 | 0.01 | 0.01 | 0.01 |\n",
       "| 27 | 9 | 1 | 0.01 | 0.01 | 0.01 | 0.01 |\n",
       "| 28 | 9 | 1 | 0.01 | 0.01 | 0.01 | 0.01 |\n",
       "| 29 | 9 | 1 | 0.01 | 0.01 | 0.01 | 0.01 |\n",
       "| ⋮ | ⋮ | ⋮ | ⋮ | ⋮ | ⋮ | ⋮ |\n",
       "|  71 | 0 | 10 | 1 | 1 | 1 | 1 |\n",
       "|  72 | 0 | 10 | 1 | 1 | 1 | 1 |\n",
       "|  73 | 0 | 10 | 1 | 1 | 1 | 1 |\n",
       "|  74 | 0 | 10 | 1 | 1 | 1 | 1 |\n",
       "|  75 | 0 | 10 | 1 | 1 | 1 | 1 |\n",
       "|  76 | 0 | 10 | 1 | 1 | 1 | 1 |\n",
       "|  77 | 0 | 10 | 1 | 1 | 1 | 1 |\n",
       "|  78 | 0 | 10 | 1 | 1 | 1 | 1 |\n",
       "|  79 | 0 | 10 | 1 | 1 | 1 | 1 |\n",
       "|  80 | 0 | 10 | 1 | 1 | 1 | 1 |\n",
       "|  81 | 0 | 10 | 1 | 1 | 1 | 1 |\n",
       "|  82 | 0 | 10 | 1 | 1 | 1 | 1 |\n",
       "|  83 | 0 | 10 | 1 | 1 | 1 | 1 |\n",
       "|  84 | 0 | 10 | 1 | 1 | 1 | 1 |\n",
       "|  85 | 0 | 10 | 1 | 1 | 1 | 1 |\n",
       "|  86 | 0 | 10 | 1 | 1 | 1 | 1 |\n",
       "|  87 | 0 | 10 | 1 | 1 | 1 | 1 |\n",
       "|  88 | 0 | 10 | 1 | 1 | 1 | 1 |\n",
       "|  89 | 0 | 10 | 1 | 1 | 1 | 1 |\n",
       "|  90 | 0 | 10 | 1 | 1 | 1 | 1 |\n",
       "|  91 | 0 | 10 | 1 | 1 | 1 | 1 |\n",
       "|  92 | 0 | 10 | 1 | 1 | 1 | 1 |\n",
       "|  93 | 0 | 10 | 1 | 1 | 1 | 1 |\n",
       "|  94 | 0 | 10 | 1 | 1 | 1 | 1 |\n",
       "|  95 | 0 | 10 | 1 | 1 | 1 | 1 |\n",
       "|  96 | 0 | 10 | 1 | 1 | 1 | 1 |\n",
       "|  97 | 0 | 10 | 1 | 1 | 1 | 1 |\n",
       "|  98 | 0 | 10 | 1 | 1 | 1 | 1 |\n",
       "|  99 | 0 | 10 | 1 | 1 | 1 | 1 |\n",
       "| 100 | 0 | 10 | 1 | 1 | 1 | 1 |\n",
       "\n"
      ],
      "text/plain": [
       "      time celltype.target.size celltype.infected.size b_cf bc2c cV   pi  \n",
       "1      0   9                    1                      0.01 0.01 0.01 0.01\n",
       "2      1   9                    1                      0.01 0.01 0.01 0.01\n",
       "3      2   9                    1                      0.01 0.01 0.01 0.01\n",
       "4      3   9                    1                      0.01 0.01 0.01 0.01\n",
       "5      4   9                    1                      0.01 0.01 0.01 0.01\n",
       "6      5   9                    1                      0.01 0.01 0.01 0.01\n",
       "7      6   9                    1                      0.01 0.01 0.01 0.01\n",
       "8      7   9                    1                      0.01 0.01 0.01 0.01\n",
       "9      8   9                    1                      0.01 0.01 0.01 0.01\n",
       "10     9   9                    1                      0.01 0.01 0.01 0.01\n",
       "11    10   9                    1                      0.01 0.01 0.01 0.01\n",
       "12    11   9                    1                      0.01 0.01 0.01 0.01\n",
       "13    12   9                    1                      0.01 0.01 0.01 0.01\n",
       "14    13   9                    1                      0.01 0.01 0.01 0.01\n",
       "15    14   9                    1                      0.01 0.01 0.01 0.01\n",
       "16    15   9                    1                      0.01 0.01 0.01 0.01\n",
       "17    16   9                    1                      0.01 0.01 0.01 0.01\n",
       "18    17   9                    1                      0.01 0.01 0.01 0.01\n",
       "19    18   9                    1                      0.01 0.01 0.01 0.01\n",
       "20    19   9                    1                      0.01 0.01 0.01 0.01\n",
       "21    20   9                    1                      0.01 0.01 0.01 0.01\n",
       "22    21   9                    1                      0.01 0.01 0.01 0.01\n",
       "23    22   9                    1                      0.01 0.01 0.01 0.01\n",
       "24    23   9                    1                      0.01 0.01 0.01 0.01\n",
       "25    24   9                    1                      0.01 0.01 0.01 0.01\n",
       "26    25   9                    1                      0.01 0.01 0.01 0.01\n",
       "27    26   9                    1                      0.01 0.01 0.01 0.01\n",
       "28    27   9                    1                      0.01 0.01 0.01 0.01\n",
       "29    28   9                    1                      0.01 0.01 0.01 0.01\n",
       "30    29   9                    1                      0.01 0.01 0.01 0.01\n",
       "⋮     ⋮    ⋮                    ⋮                      ⋮    ⋮    ⋮    ⋮   \n",
       "24514  71  0                    10                     1    1    1    1   \n",
       "24515  72  0                    10                     1    1    1    1   \n",
       "24516  73  0                    10                     1    1    1    1   \n",
       "24517  74  0                    10                     1    1    1    1   \n",
       "24518  75  0                    10                     1    1    1    1   \n",
       "24519  76  0                    10                     1    1    1    1   \n",
       "24520  77  0                    10                     1    1    1    1   \n",
       "24521  78  0                    10                     1    1    1    1   \n",
       "24522  79  0                    10                     1    1    1    1   \n",
       "24523  80  0                    10                     1    1    1    1   \n",
       "24524  81  0                    10                     1    1    1    1   \n",
       "24525  82  0                    10                     1    1    1    1   \n",
       "24526  83  0                    10                     1    1    1    1   \n",
       "24527  84  0                    10                     1    1    1    1   \n",
       "24528  85  0                    10                     1    1    1    1   \n",
       "24529  86  0                    10                     1    1    1    1   \n",
       "24530  87  0                    10                     1    1    1    1   \n",
       "24531  88  0                    10                     1    1    1    1   \n",
       "24532  89  0                    10                     1    1    1    1   \n",
       "24533  90  0                    10                     1    1    1    1   \n",
       "24534  91  0                    10                     1    1    1    1   \n",
       "24535  92  0                    10                     1    1    1    1   \n",
       "24536  93  0                    10                     1    1    1    1   \n",
       "24537  94  0                    10                     1    1    1    1   \n",
       "24538  95  0                    10                     1    1    1    1   \n",
       "24539  96  0                    10                     1    1    1    1   \n",
       "24540  97  0                    10                     1    1    1    1   \n",
       "24541  98  0                    10                     1    1    1    1   \n",
       "24542  99  0                    10                     1    1    1    1   \n",
       "24543 100  0                    10                     1    1    1    1   "
      ]
     },
     "metadata": {},
     "output_type": "display_data"
    }
   ],
   "source": [
    "populations"
   ]
  },
  {
   "cell_type": "code",
   "execution_count": null,
   "id": "62118a57-9bad-4bc5-ad12-59d84be3ce8e",
   "metadata": {},
   "outputs": [],
   "source": []
  },
  {
   "cell_type": "code",
   "execution_count": null,
   "id": "d73a276d-51e3-459c-b87b-9673b65f89ef",
   "metadata": {},
   "outputs": [],
   "source": []
  }
 ],
 "metadata": {
  "kernelspec": {
   "display_name": "R",
   "language": "R",
   "name": "ir"
  },
  "language_info": {
   "codemirror_mode": "r",
   "file_extension": ".r",
   "mimetype": "text/x-r-source",
   "name": "R",
   "pygments_lexer": "r",
   "version": "4.1.2"
  }
 },
 "nbformat": 4,
 "nbformat_minor": 5
}
