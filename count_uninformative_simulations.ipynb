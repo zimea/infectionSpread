{
 "cells": [
  {
   "cell_type": "code",
   "execution_count": 6,
   "metadata": {},
   "outputs": [],
   "source": [
    "import warnings\n",
    "#warnings.filterwarnings(\"error\")\n",
    "import os, sys\n",
    "import numpy\n",
    "import pandas as pd\n",
    "import datetime\n",
    "from functools import partial\n",
    "import tensorflow as tf\n",
    "import matplotlib.pyplot as plt\n",
    "from datetime import datetime\n",
    "import glob\n",
    "from fnmatch import fnmatch\n",
    "import plotnine as p9\n",
    "import patchworklib as pw"
   ]
  },
  {
   "cell_type": "code",
   "execution_count": 7,
   "metadata": {},
   "outputs": [],
   "source": [
    "def model_prior():\n",
    "    bcf = numpy.random.uniform(low=0,high=1)\n",
    "    pi = numpy.random.uniform(low=0,high=1)\n",
    "    cv = numpy.random.uniform(low=0,high=1)\n",
    "    return numpy.array([bcf, pi, cv])"
   ]
  },
  {
   "cell_type": "code",
   "execution_count": 8,
   "metadata": {},
   "outputs": [],
   "source": [
    "models = \"trained_models\"\n",
    "param_nr = len(model_prior())\n",
    "summary_parm = 16\n",
    "inn_layer = 4\n",
    "data_path = '/home/l/projects/Morpheus/Modelle/cell_free_50'\n",
    "timesteps = 50\n",
    "cut_off_start = 9\n",
    "cut_off_end = 10"
   ]
  },
  {
   "cell_type": "code",
   "execution_count": 9,
   "metadata": {},
   "outputs": [],
   "source": [
    "def calculate_V(path: str):\n",
    "    df = pd.read_csv(path,sep='\\t')\n",
    "    df = df[df[\"10\"]!=10]\n",
    "    morpheus_ts = numpy.repeat(range(0,timesteps+1),10)\n",
    "    times = numpy.tile(morpheus_ts,int(len(df.index)/morpheus_ts.shape[0]))\n",
    "    if len(times) != len(df.index):\n",
    "        print(path)\n",
    "    df[\"time\"] = numpy.tile(morpheus_ts,int(len(df.index)/morpheus_ts.shape[0]))\n",
    "    df['sum_V'] = df.iloc[:, 1:11].sum(axis=1)\n",
    "    df = df.drop(columns=[str(x) for x in range(0,11)])\n",
    "    df = df.groupby(list(df.columns[:-1])).agg({'sum_V': 'sum'}).reset_index()\n",
    "    return numpy.expand_dims(df['sum_V'],axis=1)[cut_off_start+1:timesteps-cut_off_end]"
   ]
  },
  {
   "cell_type": "code",
   "execution_count": 10,
   "metadata": {},
   "outputs": [],
   "source": [
    "path_list= glob.glob(os.path.join(data_path, \"output_well_mixed/*\"))\n",
    "nr_of_params = param_nr\n",
    "\n",
    "n_sim = len(path_list)\n",
    "dfs = numpy.empty((n_sim, (timesteps - 1 - cut_off_start - cut_off_end), 3), dtype=numpy.float32)\n",
    "params = numpy.empty((n_sim, nr_of_params), dtype=numpy.float32)\n",
    "invalidIndices = []\n",
    "\n",
    "for path in range(n_sim):\n",
    "    pathname = path_list[path]\n",
    "    filename = os.path.join(pathname,'logger_2.csv')\n",
    "    filename_V = os.path.join(pathname, 'logger_6_Ve.csv')\n",
    "    df = pd.read_csv(filename, index_col=None, header=0, delimiter='\\t')\n",
    "    path_split = filename.split('/')[len(filename.split('/')) - 2]\n",
    "    if path_split.startswith('sweep') or path_split.startswith('DV'):\n",
    "        start_nr = 1\n",
    "    else:\n",
    "        start_nr = 0\n",
    "    params_split = path_split.split('_')[start_nr:nr_of_params+1]\n",
    "    param_file = list(map(lambda x: round(float(x.split('-')[1]),3), params_split))\n",
    "    \n",
    "    df_tar = df['celltype.target.size'].values[:, numpy.newaxis][cut_off_start+1:timesteps-cut_off_end]\n",
    "    df_inf = df['celltype.infected.size'].values[:, numpy.newaxis][cut_off_start+1:timesteps-cut_off_end]\n",
    "    df_cells = numpy.append(df_tar,df_inf,axis=1)\n",
    "    df_V = calculate_V(filename_V)\n",
    "\n",
    "    if numpy.any(df_inf<1) or numpy.any(numpy.asarray(param_file)>1) or len(df_inf) != (timesteps - 1 - cut_off_start - cut_off_end):\n",
    "        invalidIndices.append(path)\n",
    "        continue\n",
    "    params[path] = param_file\n",
    "    dfs[path] = numpy.append(df_cells,df_V,axis=1)\n",
    "    \n",
    "    #dfs[path] = df_inf[cut_off_start+1:timesteps-cut_off_end]\n",
    "dfs = numpy.delete(dfs, invalidIndices, axis=0)\n",
    "params = numpy.delete(params, invalidIndices, axis=0)    "
   ]
  },
  {
   "cell_type": "code",
   "execution_count": 11,
   "metadata": {},
   "outputs": [],
   "source": [
    "def is_uninformative(array):\n",
    "    is_uninformative = False \n",
    "    max_nr_t_cells = array[0,0]\n",
    "    if(array[10,1] == 1 or array[10,0] == max_nr_t_cells):\n",
    "        is_uninformative = True\n",
    "    return is_uninformative "
   ]
  },
  {
   "cell_type": "code",
   "execution_count": 12,
   "metadata": {},
   "outputs": [],
   "source": [
    "def mask_uninformative(array):\n",
    "    mask = [not is_uninformative(x) for x in array]\n",
    "    return array[mask]"
   ]
  },
  {
   "cell_type": "code",
   "execution_count": 13,
   "metadata": {},
   "outputs": [],
   "source": [
    "def count_informative_per_batch(data, batch_size):\n",
    "    perm = numpy.random.permutation(data)\n",
    "    split_idx = range(0,len(perm),batch_size)\n",
    "    split = numpy.split(perm, split_idx)[1:]\n",
    "    data_filtered = [mask_uninformative(a) for a in split]\n",
    "    return numpy.array([len(a) for a in data_filtered])\n",
    "    "
   ]
  },
  {
   "cell_type": "code",
   "execution_count": 17,
   "metadata": {},
   "outputs": [],
   "source": [
    "batch_sizes = [16,32]\n",
    "plots = []\n",
    "for batch_size in batch_sizes:\n",
    "    len_batch_filtered = count_informative_per_batch(dfs,batch_size)\n",
    "\n",
    "    plot = (p9.ggplot(p9.aes(x=len_batch_filtered))\n",
    "    + p9.geom_histogram(fill='grey',color='black', binwidth=1)\n",
    "    + p9.xlab('Filtered batch size')\n",
    "    + p9.theme_light()\n",
    "    + p9.ggtitle('Batch size: ' + str(batch_size))\n",
    "    + p9.scale_x_continuous(breaks = range(min(len_batch_filtered),max(len_batch_filtered)+1)))\n",
    "\n",
    "    plots.append(pw.load_ggplot(plot))"
   ]
  },
  {
   "cell_type": "code",
   "execution_count": 18,
   "metadata": {},
   "outputs": [
    {
     "data": {
      "image/png": "[encoded data removed]",
      "text/plain": [
       "<Figure size 72x72 with 5 Axes>"
      ]
     },
     "execution_count": 18,
     "metadata": {},
     "output_type": "execute_result"
    }
   ],
   "source": [
    "figure = ( plots[0] | plots[1] )\n",
    "figure.savefig()"
   ]
  }
 ],
 "metadata": {
  "kernelspec": {
   "display_name": "cell_free_50",
   "language": "python",
   "name": "cell_free_50"
  },
  "language_info": {
   "codemirror_mode": {
    "name": "ipython",
    "version": 3
   },
   "file_extension": ".py",
   "mimetype": "text/x-python",
   "name": "python",
   "nbconvert_exporter": "python",
   "pygments_lexer": "ipython3",
   "version": "3.10.4"
  },
  "orig_nbformat": 4,
  "vscode": {
   "interpreter": {
    "hash": "17cf98c36350753fcff6fbe1cac88ded9729e7ad59fcafa1496df271be5cec55"
   }
  }
 },
 "nbformat": 4,
 "nbformat_minor": 2
}
