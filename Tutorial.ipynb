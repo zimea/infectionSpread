{
 "cells": [
  {
   "cell_type": "markdown",
   "id": "1812dccf-e2e5-4ca8-afc3-7f9cb6e26b8e",
   "metadata": {},
   "source": [
    "# Simulation data"
   ]
  },
  {
   "cell_type": "markdown",
   "id": "06050396-5295-448c-be17-a46035c63b07",
   "metadata": {},
   "source": [
    "## Background"
   ]
  },
  {
   "cell_type": "markdown",
   "id": "551a22b3-b70f-4cbf-9f73-3a8371064e46",
   "metadata": {},
   "source": [
    "In this toy-project, we want to simulate the viral infection spread through a 2D cell culture and use BayesFlow to estimate the infection rate, virus export and clearence.\n",
    "\n",
    "The project consists of several parts:\n",
    "- simulating infection spread in the cell cuture via Morpheus https://morpheus.gitlab.io/\n",
    "- parameter inference using Bayes Flow excluding/including spacial information"
   ]
  },
  {
   "cell_type": "markdown",
   "id": "88dea0a7-ef6a-40f3-84db-a7f96c33bfae",
   "metadata": {},
   "source": [
    "## Infection Simulation via Morpheus"
   ]
  },
  {
   "cell_type": "markdown",
   "id": "948952ce-c3b0-4215-bb26-fd4df03a240c",
   "metadata": {},
   "source": [
    "Morpheus provides a framework to implement Cellular Potts Models (CPM) (reference). CPM is a cell-based modelling approach that allows to simulate cellular behaviour over time based on given characteristics of cells such as target cell volume and surface, cellular interaction and cell motility. For more detailed information, please refer to the built-in examples (https://morpheus.gitlab.io/model/built-in-examples/)."
   ]
  },
  {
   "cell_type": "markdown",
   "id": "d7e2a8c0-9aa1-411d-bef4-2d6a2bacf034",
   "metadata": {},
   "source": [
    "The small toy model contains a grid of 10 cells, which can have one of two states - infected or target cell. The cells are initiated at random positions on the grid and one randomly selected cell has status infected at timepoint 0.\n",
    "\n",
    "Starting from this cell, the infection can spread via two mechanisms:\n",
    "1. cell-to-cell spread: the infection spreads via direct contact between cells and the probability depends on the infectious load of the infected cell (in this example default=1 for simplicity) and the duration and length of the contact. The cell-to-cell infection rate is not known and must be stimated.\n",
    "# Formel\n",
    "\n",
    "2. cell-free spread: an infected cell exports infectious agent that is able to spread through the grid via diffusion. A target cell is infected with a probability that depends on the concentration of infectious agent at the position of the cell as well as the duration of exposure. The export and clearence rate of the infectious agent has to be estimated, as well as the cell-free infection rate.\n",
    "# Formel\n",
    "\n",
    "# Abbildung\n"
   ]
  },
  {
   "cell_type": "code",
   "execution_count": null,
   "id": "4cf87e43-b518-4478-98a8-ea44571b1a4d",
   "metadata": {},
   "outputs": [],
   "source": []
  }
 ],
 "metadata": {
  "kernelspec": {
   "display_name": "venv",
   "language": "python",
   "name": "venv"
  },
  "language_info": {
   "codemirror_mode": {
    "name": "ipython",
    "version": 3
   },
   "file_extension": ".py",
   "mimetype": "text/x-python",
   "name": "python",
   "nbconvert_exporter": "python",
   "pygments_lexer": "ipython3",
   "version": "3.10.4"
  }
 },
 "nbformat": 4,
 "nbformat_minor": 5
}
